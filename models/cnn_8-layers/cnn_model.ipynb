{
 "cells": [
  {
   "cell_type": "code",
   "execution_count": 1,
   "metadata": {},
   "outputs": [
    {
     "name": "stderr",
     "output_type": "stream",
     "text": [
      "/usr/local/lib/python3.5/dist-packages/sklearn/cross_validation.py:41: DeprecationWarning: This module was deprecated in version 0.18 in favor of the model_selection module into which all the refactored classes and functions are moved. Also note that the interface of the new CV iterators are different from that of this module. This module will be removed in 0.20.\n",
      "  \"This module will be removed in 0.20.\", DeprecationWarning)\n",
      "Using TensorFlow backend.\n"
     ]
    }
   ],
   "source": [
    "import os\n",
    "import glob\n",
    "import numpy as np\n",
    "import matplotlib.pyplot as plt\n",
    "from skimage import color, exposure, transform, io\n",
    "from sklearn.cross_validation import train_test_split\n",
    "from keras import utils as np_utils\n",
    "from keras.models import Sequential\n",
    "from keras.layers.core import Dense, Dropout, Activation, Flatten\n",
    "from keras.layers.convolutional import Conv2D\n",
    "from keras.layers.pooling import MaxPooling2D\n",
    "from keras.optimizers import SGD\n",
    "from keras import backend as K\n",
    "from keras.callbacks import LearningRateScheduler, ModelCheckpoint\n",
    "K.set_image_data_format('channels_first')\n",
    "\n",
    "\n",
    "# Define the number of outputs to train and image size\n",
    "NUM_CLASSES = 43 # 43 for GTSRB and 164 for European dataset\n",
    "IMG_SIZE = 48"
   ]
  },
  {
   "cell_type": "code",
   "execution_count": 2,
   "metadata": {},
   "outputs": [
    {
     "name": "stdout",
     "output_type": "stream",
     "text": [
      "Keras version 2.2.0\n",
      "Tensorflow version 1.8.0\n",
      "Python version 3.5.2 (default, Nov 23 2017, 16:37:01) \n",
      "[GCC 5.4.0 20160609]\n"
     ]
    }
   ],
   "source": [
    "import keras\n",
    "import tensorflow as tf\n",
    "import sys\n",
    "\n",
    "print('Keras version', keras.__version__)\n",
    "print('Tensorflow version', tf.__version__)\n",
    "print('Python version', sys.version)"
   ]
  },
  {
   "cell_type": "markdown",
   "metadata": {},
   "source": [
    "## Function definitions for reading the data"
   ]
  },
  {
   "cell_type": "code",
   "execution_count": 3,
   "metadata": {},
   "outputs": [],
   "source": [
    "def preprocess_img(img):\n",
    "    # Histogram normalization in v channel\n",
    "    hsv = color.rgb2hsv(img)\n",
    "    hsv[:, :, 2] = exposure.equalize_hist(hsv[:, :, 2])\n",
    "    img = color.hsv2rgb(hsv)\n",
    "\n",
    "    # rescale to standard size\n",
    "    img = transform.resize(img, (IMG_SIZE, IMG_SIZE))\n",
    "\n",
    "    # roll color axis to axis 0\n",
    "    img = np.rollaxis(img, -1)\n",
    "\n",
    "    return img\n",
    "\n",
    "\n",
    "def get_class(img_path):\n",
    "    return int(img_path.split('/')[-2])"
   ]
  },
  {
   "cell_type": "markdown",
   "metadata": {},
   "source": [
    "## Read the data"
   ]
  },
  {
   "cell_type": "code",
   "execution_count": 4,
   "metadata": {},
   "outputs": [
    {
     "name": "stderr",
     "output_type": "stream",
     "text": [
      "/usr/local/lib/python3.5/dist-packages/skimage/transform/_warps.py:105: UserWarning: The default mode, 'constant', will be changed to 'reflect' in skimage 0.15.\n",
      "  warn(\"The default mode, 'constant', will be changed to 'reflect' in \"\n",
      "/usr/local/lib/python3.5/dist-packages/skimage/transform/_warps.py:110: UserWarning: Anti-aliasing will be enabled by default in skimage 0.15 to avoid aliasing artifacts when down-sampling images.\n",
      "  warn(\"Anti-aliasing will be enabled by default in skimage 0.15 to \"\n"
     ]
    }
   ],
   "source": [
    "# Read the training data\n",
    "\n",
    "# Define the path to your traning dataset (GTSRB - Training)\n",
    "root_dir = '../../Datasets/Traffic_signs/German_Recognition/Final_Training/Images'\n",
    "imgs = []\n",
    "labels = []\n",
    "\n",
    "# Read all image paths with extension ppm\n",
    "all_img_paths = sorted(glob.glob(os.path.join(root_dir, '*/*.ppm')))\n",
    "np.random.seed(42)\n",
    "np.random.shuffle(all_img_paths)\n",
    "\n",
    "# Read images and pre-process them\n",
    "for img_path in all_img_paths:\n",
    "    img = preprocess_img(io.imread(img_path))\n",
    "    label = get_class(img_path)\n",
    "    \n",
    "    imgs.append(img)\n",
    "    labels.append(label)\n",
    "\n",
    "X = np.array(imgs, dtype='float32')\n",
    "# Binarize the labels\n",
    "Y = np.eye(NUM_CLASSES, dtype='uint8')[labels]"
   ]
  },
  {
   "cell_type": "code",
   "execution_count": 5,
   "metadata": {},
   "outputs": [
    {
     "name": "stderr",
     "output_type": "stream",
     "text": [
      "/usr/local/lib/python3.5/dist-packages/skimage/transform/_warps.py:105: UserWarning: The default mode, 'constant', will be changed to 'reflect' in skimage 0.15.\n",
      "  warn(\"The default mode, 'constant', will be changed to 'reflect' in \"\n",
      "/usr/local/lib/python3.5/dist-packages/skimage/transform/_warps.py:110: UserWarning: Anti-aliasing will be enabled by default in skimage 0.15 to avoid aliasing artifacts when down-sampling images.\n",
      "  warn(\"Anti-aliasing will be enabled by default in skimage 0.15 to \"\n"
     ]
    }
   ],
   "source": [
    "# Read the testing data\n",
    "\n",
    "# Define the path to your testing dataset (GTSRB - Test)\n",
    "root_dir = '../../Datasets/Traffic_signs/German_Recognition/Final_Test/Images' # images are in folders like in training set\n",
    "X_test = []\n",
    "y_test = []\n",
    "paths_test=[]\n",
    "\n",
    "# Read all image paths with extension ppm\n",
    "all_img_paths = sorted(glob.glob(os.path.join(root_dir, '*/*.ppm')))\n",
    "np.random.seed(42)\n",
    "np.random.shuffle(all_img_paths)\n",
    "\n",
    "# Read images and pre-process them\n",
    "for img_path in all_img_paths:\n",
    "    img = preprocess_img(io.imread(img_path))\n",
    "    paths_test.append(img_path)\n",
    "    \n",
    "    label = get_class(img_path)\n",
    "    X_test.append(img)\n",
    "    y_test.append(label)\n",
    "\n",
    "X_test = np.array(X_test, dtype='float32')\n",
    "# Binarize the labels\n",
    "y_test = np.eye(NUM_CLASSES, dtype='uint8')[y_test]\n"
   ]
  },
  {
   "cell_type": "code",
   "execution_count": 6,
   "metadata": {},
   "outputs": [],
   "source": [
    "# Split training data into train and validation sets\n",
    "# random_state helps defining the same split always with a seed of 42. Otherwise the split will always be different\n",
    "X_train, X_val, Y_train, Y_val = train_test_split(X, Y, test_size=0.1, random_state=42)"
   ]
  },
  {
   "cell_type": "code",
   "execution_count": 7,
   "metadata": {},
   "outputs": [],
   "source": [
    "# Normalize the data\n",
    "normalize = 0\n",
    "\n",
    "# Subtract the mean image\n",
    "if normalize:\n",
    "    mean_image = np.mean(X_train, axis=0)\n",
    "    X_train -= mean_image\n",
    "    X_val -= mean_image\n",
    "    X_test -= mean_image"
   ]
  },
  {
   "cell_type": "code",
   "execution_count": 8,
   "metadata": {},
   "outputs": [
    {
     "name": "stdout",
     "output_type": "stream",
     "text": [
      "Training data shape:  (39209, 3, 48, 48)\n",
      "Training labels shape: (39209, 43)\n",
      "Validation data shape:  (3921, 3, 48, 48)\n",
      "Validation labels shape:  (3921, 43)\n",
      "Testing data sahep:  (12630, 3, 48, 48)\n",
      "Testing labels shape:  (12630, 43)\n"
     ]
    }
   ],
   "source": [
    "print ('Training data shape: ', X.shape)\n",
    "print ('Training labels shape:', Y.shape)\n",
    "print ('Validation data shape: ', X_val.shape)\n",
    "print ('Validation labels shape: ', Y_val.shape)\n",
    "print ('Testing data sahep: ', X_test.shape)\n",
    "print ('Testing labels shape: ', y_test.shape)"
   ]
  },
  {
   "cell_type": "markdown",
   "metadata": {},
   "source": [
    "## Model definition"
   ]
  },
  {
   "cell_type": "code",
   "execution_count": 4,
   "metadata": {},
   "outputs": [],
   "source": [
    "def cnn_model():\n",
    "    model = Sequential()\n",
    "\n",
    "    model.add(Conv2D(32, (3, 3), padding='same',\n",
    "                     input_shape=(3, IMG_SIZE, IMG_SIZE),\n",
    "                     activation='relu'))\n",
    "    model.add(Conv2D(32, (3, 3), activation='relu'))\n",
    "    model.add(MaxPooling2D(pool_size=(2, 2)))\n",
    "    model.add(Dropout(0.2))\n",
    "\n",
    "    model.add(Conv2D(64, (3, 3), padding='same',\n",
    "                     activation='relu'))\n",
    "    model.add(Conv2D(64, (3, 3), activation='relu'))\n",
    "    model.add(MaxPooling2D(pool_size=(2, 2)))\n",
    "    model.add(Dropout(0.2))\n",
    "\n",
    "    model.add(Conv2D(128, (3, 3), padding='same',\n",
    "                     activation='relu'))\n",
    "    model.add(Conv2D(128, (3, 3), activation='relu'))\n",
    "    model.add(MaxPooling2D(pool_size=(2, 2)))\n",
    "    model.add(Dropout(0.2))\n",
    "\n",
    "    model.add(Flatten())\n",
    "    model.add(Dense(512, activation='relu'))\n",
    "    model.add(Dropout(0.5))\n",
    "    model.add(Dense(NUM_CLASSES, activation='softmax'))\n",
    "    return model"
   ]
  },
  {
   "cell_type": "markdown",
   "metadata": {},
   "source": [
    "## Initialize the model and training parameters"
   ]
  },
  {
   "cell_type": "code",
   "execution_count": 5,
   "metadata": {},
   "outputs": [],
   "source": [
    "model = cnn_model()\n",
    "\n",
    "batch_size = 128\n",
    "epochs = 40\n",
    "\n",
    "lr = 0.01\n",
    "sgd = SGD(lr=lr, decay=1e-6, momentum=0.9, nesterov=True)\n",
    "\n",
    "def lr_schedule(epoch):\n",
    "    return lr * (0.1 ** int(epoch / 10))\n",
    "\n",
    "model.compile(loss='categorical_crossentropy',\n",
    "              optimizer=sgd,\n",
    "              metrics=['accuracy'])\n",
    "\n",
    "# weights initialization\n",
    "def my_init(shape, name=None):\n",
    "    value = np.random.random(shape)\n",
    "    return K.variable(value, name=name)"
   ]
  },
  {
   "cell_type": "markdown",
   "metadata": {},
   "source": [
    "## Start the training"
   ]
  },
  {
   "cell_type": "code",
   "execution_count": 11,
   "metadata": {},
   "outputs": [
    {
     "name": "stdout",
     "output_type": "stream",
     "text": [
      "Train on 35288 samples, validate on 3921 samples\n",
      "Epoch 1/40\n",
      "35288/35288 [==============================] - 6s 163us/step - loss: 2.7095 - acc: 0.2619 - val_loss: 0.7656 - val_acc: 0.7733\n",
      "Epoch 2/40\n",
      "35288/35288 [==============================] - 5s 134us/step - loss: 0.5741 - acc: 0.8183 - val_loss: 0.1431 - val_acc: 0.9564\n",
      "Epoch 3/40\n",
      "35288/35288 [==============================] - 5s 131us/step - loss: 0.2391 - acc: 0.9240 - val_loss: 0.0667 - val_acc: 0.9796\n",
      "Epoch 4/40\n",
      "35288/35288 [==============================] - 5s 131us/step - loss: 0.1553 - acc: 0.9512 - val_loss: 0.0468 - val_acc: 0.9875\n",
      "Epoch 5/40\n",
      "35288/35288 [==============================] - 5s 129us/step - loss: 0.1097 - acc: 0.9663 - val_loss: 0.0340 - val_acc: 0.9885\n",
      "Epoch 6/40\n",
      "35288/35288 [==============================] - 5s 129us/step - loss: 0.0861 - acc: 0.9732 - val_loss: 0.0276 - val_acc: 0.9913\n",
      "Epoch 7/40\n",
      "35288/35288 [==============================] - 5s 130us/step - loss: 0.0734 - acc: 0.9761 - val_loss: 0.0267 - val_acc: 0.9913\n",
      "Epoch 8/40\n",
      "35288/35288 [==============================] - 5s 129us/step - loss: 0.0613 - acc: 0.9809 - val_loss: 0.0179 - val_acc: 0.9946\n",
      "Epoch 9/40\n",
      "35288/35288 [==============================] - 5s 129us/step - loss: 0.0506 - acc: 0.9839 - val_loss: 0.0218 - val_acc: 0.9934\n",
      "Epoch 10/40\n",
      "35288/35288 [==============================] - 5s 129us/step - loss: 0.0443 - acc: 0.9854 - val_loss: 0.0145 - val_acc: 0.9952\n",
      "Epoch 11/40\n",
      "35288/35288 [==============================] - 5s 132us/step - loss: 0.0332 - acc: 0.9893 - val_loss: 0.0126 - val_acc: 0.9957\n",
      "Epoch 12/40\n",
      "35288/35288 [==============================] - 5s 131us/step - loss: 0.0270 - acc: 0.9913 - val_loss: 0.0121 - val_acc: 0.9964\n",
      "Epoch 13/40\n",
      "35288/35288 [==============================] - 5s 129us/step - loss: 0.0235 - acc: 0.9929 - val_loss: 0.0106 - val_acc: 0.9964\n",
      "Epoch 14/40\n",
      "35288/35288 [==============================] - 5s 129us/step - loss: 0.0223 - acc: 0.9927 - val_loss: 0.0098 - val_acc: 0.9967\n",
      "Epoch 15/40\n",
      "35288/35288 [==============================] - 5s 131us/step - loss: 0.0202 - acc: 0.9935 - val_loss: 0.0098 - val_acc: 0.9969\n",
      "Epoch 16/40\n",
      "35288/35288 [==============================] - 5s 131us/step - loss: 0.0219 - acc: 0.9928 - val_loss: 0.0099 - val_acc: 0.9967\n",
      "Epoch 17/40\n",
      "35288/35288 [==============================] - 5s 129us/step - loss: 0.0218 - acc: 0.9933 - val_loss: 0.0106 - val_acc: 0.9959\n",
      "Epoch 18/40\n",
      "35288/35288 [==============================] - 5s 130us/step - loss: 0.0196 - acc: 0.9935 - val_loss: 0.0090 - val_acc: 0.9967\n",
      "Epoch 19/40\n",
      "35288/35288 [==============================] - 5s 132us/step - loss: 0.0195 - acc: 0.9937 - val_loss: 0.0087 - val_acc: 0.9964\n",
      "Epoch 20/40\n",
      "35288/35288 [==============================] - 5s 130us/step - loss: 0.0186 - acc: 0.9940 - val_loss: 0.0084 - val_acc: 0.9969\n",
      "Epoch 21/40\n",
      "35288/35288 [==============================] - 5s 134us/step - loss: 0.0200 - acc: 0.9938 - val_loss: 0.0086 - val_acc: 0.9967\n",
      "Epoch 22/40\n",
      "35288/35288 [==============================] - 5s 132us/step - loss: 0.0171 - acc: 0.9946 - val_loss: 0.0084 - val_acc: 0.9967\n",
      "Epoch 23/40\n",
      "35288/35288 [==============================] - 5s 129us/step - loss: 0.0189 - acc: 0.9941 - val_loss: 0.0086 - val_acc: 0.9967\n",
      "Epoch 24/40\n",
      "35288/35288 [==============================] - 5s 132us/step - loss: 0.0186 - acc: 0.9939 - val_loss: 0.0086 - val_acc: 0.9967\n",
      "Epoch 25/40\n",
      "35288/35288 [==============================] - 5s 130us/step - loss: 0.0171 - acc: 0.9946 - val_loss: 0.0088 - val_acc: 0.9967\n",
      "Epoch 26/40\n",
      "35288/35288 [==============================] - 5s 131us/step - loss: 0.0187 - acc: 0.9936 - val_loss: 0.0089 - val_acc: 0.9969\n",
      "Epoch 27/40\n",
      "35288/35288 [==============================] - 5s 132us/step - loss: 0.0169 - acc: 0.9947 - val_loss: 0.0088 - val_acc: 0.9969\n",
      "Epoch 28/40\n",
      "35288/35288 [==============================] - 5s 131us/step - loss: 0.0190 - acc: 0.9938 - val_loss: 0.0086 - val_acc: 0.9967\n",
      "Epoch 29/40\n",
      "35288/35288 [==============================] - 5s 131us/step - loss: 0.0165 - acc: 0.9944 - val_loss: 0.0088 - val_acc: 0.9967\n",
      "Epoch 30/40\n",
      "35288/35288 [==============================] - 5s 130us/step - loss: 0.0181 - acc: 0.9940 - val_loss: 0.0086 - val_acc: 0.9967\n",
      "Epoch 31/40\n",
      "35288/35288 [==============================] - 5s 129us/step - loss: 0.0178 - acc: 0.9940 - val_loss: 0.0086 - val_acc: 0.9967\n",
      "Epoch 32/40\n",
      "35288/35288 [==============================] - 5s 129us/step - loss: 0.0161 - acc: 0.9947 - val_loss: 0.0086 - val_acc: 0.9967\n",
      "Epoch 33/40\n",
      "35288/35288 [==============================] - 5s 130us/step - loss: 0.0172 - acc: 0.9944 - val_loss: 0.0086 - val_acc: 0.9967\n",
      "Epoch 34/40\n",
      "35288/35288 [==============================] - 5s 129us/step - loss: 0.0160 - acc: 0.9948 - val_loss: 0.0086 - val_acc: 0.9967\n",
      "Epoch 35/40\n",
      "35288/35288 [==============================] - 5s 132us/step - loss: 0.0158 - acc: 0.9949 - val_loss: 0.0086 - val_acc: 0.9967\n",
      "Epoch 36/40\n",
      "35288/35288 [==============================] - 5s 131us/step - loss: 0.0195 - acc: 0.9937 - val_loss: 0.0086 - val_acc: 0.9967\n",
      "Epoch 37/40\n",
      "35288/35288 [==============================] - 5s 131us/step - loss: 0.0169 - acc: 0.9947 - val_loss: 0.0086 - val_acc: 0.9967\n",
      "Epoch 38/40\n",
      "35288/35288 [==============================] - 5s 130us/step - loss: 0.0171 - acc: 0.9944 - val_loss: 0.0086 - val_acc: 0.9967\n",
      "Epoch 39/40\n",
      "35288/35288 [==============================] - 5s 131us/step - loss: 0.0183 - acc: 0.9940 - val_loss: 0.0086 - val_acc: 0.9967\n",
      "Epoch 40/40\n",
      "35288/35288 [==============================] - 5s 131us/step - loss: 0.0175 - acc: 0.9940 - val_loss: 0.0087 - val_acc: 0.9967\n"
     ]
    }
   ],
   "source": [
    "# Save the training history\n",
    "history = model.fit(X_train, Y_train,\n",
    "          batch_size=batch_size,\n",
    "          epochs=epochs,\n",
    "          validation_data=(X_val,Y_val),\n",
    "          callbacks=[LearningRateScheduler(lr_schedule),\n",
    "                     ModelCheckpoint('german_cnn.h5', save_best_only=True)]\n",
    "          )"
   ]
  },
  {
   "cell_type": "code",
   "execution_count": 12,
   "metadata": {},
   "outputs": [
    {
     "data": {
      "image/png": "[encoded data removed]",
      "text/plain": [
       "<Figure size 432x288 with 1 Axes>"
      ]
     },
     "metadata": {},
     "output_type": "display_data"
    },
    {
     "data": {
      "image/png": "[encoded data removed]",
      "text/plain": [
       "<Figure size 432x288 with 1 Axes>"
      ]
     },
     "metadata": {},
     "output_type": "display_data"
    }
   ],
   "source": [
    "# Plot the learning curves\n",
    "acc = history.history['acc']\n",
    "val_acc = history.history['val_acc']\n",
    "loss = history.history['loss']\n",
    "val_loss = history.history['val_loss']\n",
    "\n",
    "epochs = range(len(acc))\n",
    "\n",
    "plt.plot(epochs, acc, '-o', label='Training acc')\n",
    "plt.plot(epochs, val_acc, 'b', label='Validation acc')\n",
    "plt.title('Training and validation accuracy')\n",
    "plt.legend(loc=4)\n",
    "\n",
    "plt.figure()\n",
    "\n",
    "plt.plot(epochs, loss, '-o', label='Training loss')\n",
    "plt.plot(epochs, val_loss, 'b', label='Validation loss')\n",
    "plt.title('Training and validation loss')\n",
    "plt.legend()\n",
    "\n",
    "plt.show()"
   ]
  },
  {
   "cell_type": "markdown",
   "metadata": {},
   "source": [
    "## Model evlauation"
   ]
  },
  {
   "cell_type": "code",
   "execution_count": 13,
   "metadata": {},
   "outputs": [
    {
     "name": "stdout",
     "output_type": "stream",
     "text": [
      "12630/12630 [==============================] - 1s 64us/step\n",
      "[INFO] acc: 96.84%\n"
     ]
    }
   ],
   "source": [
    "# evaluate loaded model on test data\n",
    "score = model.evaluate(X_test, y_test, batch_size=128, verbose=1)\n",
    "print(\"[INFO] %s: %.2f%%\" % (model.metrics_names[1], score[1]*100))"
   ]
  },
  {
   "cell_type": "code",
   "execution_count": 14,
   "metadata": {},
   "outputs": [
    {
     "name": "stdout",
     "output_type": "stream",
     "text": [
      "Loaded weights from disk\n",
      "12630/12630 [==============================] - 1s 61us/step\n",
      "[INFO] acc: 97.32%\n"
     ]
    }
   ],
   "source": [
    "# load weights into new model (best weights)\n",
    "model2 = cnn_model() \n",
    "model2.load_weights('GTSRB_weights/cnn_german.h5')\n",
    "print(\"Loaded weights from disk\")\n",
    " \n",
    "# evaluate loaded model on test data\n",
    "model2.compile(loss='categorical_crossentropy', optimizer=sgd, metrics=['accuracy'])\n",
    "score = model2.evaluate(X_test, y_test, batch_size=128, verbose=1)\n",
    "print(\"[INFO] %s: %.2f%%\" % (model2.metrics_names[1], score[1]*100))"
   ]
  },
  {
   "cell_type": "markdown",
   "metadata": {},
   "source": [
    "# Data augmentation"
   ]
  },
  {
   "cell_type": "code",
   "execution_count": 19,
   "metadata": {},
   "outputs": [
    {
     "name": "stdout",
     "output_type": "stream",
     "text": [
      "Epoch 1/40\n",
      "276/275 [==============================] - 14s 52ms/step - loss: 0.0630 - acc: 0.9805 - val_loss: 0.0053 - val_acc: 0.9985\n",
      "Epoch 2/40\n",
      "276/275 [==============================] - 14s 51ms/step - loss: 0.0578 - acc: 0.9816 - val_loss: 0.0068 - val_acc: 0.9982\n",
      "Epoch 3/40\n",
      "276/275 [==============================] - 14s 50ms/step - loss: 0.0566 - acc: 0.9829 - val_loss: 0.0083 - val_acc: 0.9964\n",
      "Epoch 4/40\n",
      "276/275 [==============================] - 14s 51ms/step - loss: 0.0529 - acc: 0.9837 - val_loss: 0.0037 - val_acc: 0.9987\n",
      "Epoch 5/40\n",
      "276/275 [==============================] - 14s 50ms/step - loss: 0.0512 - acc: 0.9838 - val_loss: 0.0051 - val_acc: 0.9987\n",
      "Epoch 6/40\n",
      "276/275 [==============================] - 14s 50ms/step - loss: 0.0486 - acc: 0.9849 - val_loss: 0.0034 - val_acc: 0.9980\n",
      "Epoch 7/40\n",
      "276/275 [==============================] - 14s 51ms/step - loss: 0.0446 - acc: 0.9854 - val_loss: 0.0052 - val_acc: 0.9985\n",
      "Epoch 8/40\n",
      "276/275 [==============================] - 14s 51ms/step - loss: 0.0419 - acc: 0.9868 - val_loss: 0.0031 - val_acc: 0.9992\n",
      "Epoch 9/40\n",
      "276/275 [==============================] - 14s 51ms/step - loss: 0.0402 - acc: 0.9871 - val_loss: 0.0063 - val_acc: 0.9980\n",
      "Epoch 10/40\n",
      "276/275 [==============================] - 14s 50ms/step - loss: 0.0407 - acc: 0.9868 - val_loss: 0.0047 - val_acc: 0.9990\n",
      "Epoch 11/40\n",
      "276/275 [==============================] - 14s 51ms/step - loss: 0.0314 - acc: 0.9908 - val_loss: 0.0025 - val_acc: 0.9990\n",
      "Epoch 12/40\n",
      "276/275 [==============================] - 14s 51ms/step - loss: 0.0241 - acc: 0.9923 - val_loss: 0.0021 - val_acc: 0.9990\n",
      "Epoch 13/40\n",
      "276/275 [==============================] - 14s 50ms/step - loss: 0.0249 - acc: 0.9929 - val_loss: 0.0022 - val_acc: 0.9990\n",
      "Epoch 14/40\n",
      "276/275 [==============================] - 14s 50ms/step - loss: 0.0247 - acc: 0.9916 - val_loss: 0.0022 - val_acc: 0.9990\n",
      "Epoch 15/40\n",
      "276/275 [==============================] - 14s 51ms/step - loss: 0.0259 - acc: 0.9920 - val_loss: 0.0022 - val_acc: 0.9990\n",
      "Epoch 16/40\n",
      "276/275 [==============================] - 14s 51ms/step - loss: 0.0238 - acc: 0.9924 - val_loss: 0.0023 - val_acc: 0.9990\n",
      "Epoch 17/40\n",
      "276/275 [==============================] - 14s 50ms/step - loss: 0.0232 - acc: 0.9921 - val_loss: 0.0024 - val_acc: 0.9987\n",
      "Epoch 18/40\n",
      "276/275 [==============================] - 14s 50ms/step - loss: 0.0228 - acc: 0.9928 - val_loss: 0.0024 - val_acc: 0.9990\n",
      "Epoch 19/40\n",
      "276/275 [==============================] - 14s 50ms/step - loss: 0.0252 - acc: 0.9925 - val_loss: 0.0019 - val_acc: 0.9990\n",
      "Epoch 20/40\n",
      "276/275 [==============================] - 14s 51ms/step - loss: 0.0225 - acc: 0.9932 - val_loss: 0.0018 - val_acc: 0.9992\n",
      "Epoch 21/40\n",
      "276/275 [==============================] - 14s 50ms/step - loss: 0.0220 - acc: 0.9934 - val_loss: 0.0018 - val_acc: 0.9992\n",
      "Epoch 22/40\n",
      "276/275 [==============================] - 14s 51ms/step - loss: 0.0207 - acc: 0.9939 - val_loss: 0.0019 - val_acc: 0.9992\n",
      "Epoch 23/40\n",
      "276/275 [==============================] - 14s 51ms/step - loss: 0.0212 - acc: 0.9939 - val_loss: 0.0019 - val_acc: 0.9992\n",
      "Epoch 24/40\n",
      "276/275 [==============================] - 14s 51ms/step - loss: 0.0212 - acc: 0.9935 - val_loss: 0.0019 - val_acc: 0.9992\n",
      "Epoch 25/40\n",
      "276/275 [==============================] - 14s 50ms/step - loss: 0.0207 - acc: 0.9936 - val_loss: 0.0018 - val_acc: 0.9992\n",
      "Epoch 26/40\n",
      "276/275 [==============================] - 14s 51ms/step - loss: 0.0226 - acc: 0.9927 - val_loss: 0.0018 - val_acc: 0.9992\n",
      "Epoch 27/40\n",
      "276/275 [==============================] - 14s 50ms/step - loss: 0.0209 - acc: 0.9932 - val_loss: 0.0018 - val_acc: 0.9992\n",
      "Epoch 28/40\n",
      "276/275 [==============================] - 14s 50ms/step - loss: 0.0221 - acc: 0.9932 - val_loss: 0.0018 - val_acc: 0.9992\n",
      "Epoch 29/40\n",
      "276/275 [==============================] - 14s 51ms/step - loss: 0.0219 - acc: 0.9935 - val_loss: 0.0019 - val_acc: 0.9992\n",
      "Epoch 30/40\n",
      "276/275 [==============================] - 14s 51ms/step - loss: 0.0205 - acc: 0.9934 - val_loss: 0.0019 - val_acc: 0.9992\n",
      "Epoch 31/40\n",
      "276/275 [==============================] - 14s 51ms/step - loss: 0.0216 - acc: 0.9931 - val_loss: 0.0019 - val_acc: 0.9992\n",
      "Epoch 32/40\n",
      "276/275 [==============================] - 14s 50ms/step - loss: 0.0205 - acc: 0.9938 - val_loss: 0.0019 - val_acc: 0.9992\n",
      "Epoch 33/40\n",
      "276/275 [==============================] - 14s 50ms/step - loss: 0.0241 - acc: 0.9934 - val_loss: 0.0019 - val_acc: 0.9992\n",
      "Epoch 34/40\n",
      "276/275 [==============================] - 14s 50ms/step - loss: 0.0224 - acc: 0.9932 - val_loss: 0.0019 - val_acc: 0.9992\n",
      "Epoch 35/40\n",
      "276/275 [==============================] - 14s 52ms/step - loss: 0.0209 - acc: 0.9939 - val_loss: 0.0019 - val_acc: 0.9992\n",
      "Epoch 36/40\n",
      "276/275 [==============================] - 14s 50ms/step - loss: 0.0200 - acc: 0.9936 - val_loss: 0.0019 - val_acc: 0.9992\n",
      "Epoch 37/40\n",
      "276/275 [==============================] - 14s 52ms/step - loss: 0.0196 - acc: 0.9938 - val_loss: 0.0019 - val_acc: 0.9992\n",
      "Epoch 38/40\n",
      "276/275 [==============================] - 14s 50ms/step - loss: 0.0200 - acc: 0.9935 - val_loss: 0.0019 - val_acc: 0.9992\n",
      "Epoch 39/40\n",
      "276/275 [==============================] - 14s 51ms/step - loss: 0.0220 - acc: 0.9930 - val_loss: 0.0019 - val_acc: 0.9992\n",
      "Epoch 40/40\n",
      "276/275 [==============================] - 14s 50ms/step - loss: 0.0195 - acc: 0.9941 - val_loss: 0.0019 - val_acc: 0.9992\n"
     ]
    }
   ],
   "source": [
    "from keras.preprocessing.image import ImageDataGenerator\n",
    "from sklearn.cross_validation import train_test_split\n",
    "from keras.callbacks import LearningRateScheduler, ModelCheckpoint\n",
    "\n",
    "datagen = ImageDataGenerator(featurewise_center=False,\n",
    "                             featurewise_std_normalization=False,\n",
    "                             width_shift_range=0.1,\n",
    "                             height_shift_range=0.1,\n",
    "                             zoom_range=0.2,\n",
    "                             shear_range=0.1,\n",
    "                             rotation_range=10.)\n",
    "\n",
    "datagen.fit(X_train)\n",
    "\n",
    "# Reinitialize model and compile\n",
    "#model = cnn_model()\n",
    "#model.compile(loss='categorical_crossentropy', optimizer=sgd, metrics=['accuracy'])\n",
    "\n",
    "# Train again\n",
    "epochs = 40\n",
    "\n",
    "history2=model.fit_generator(datagen.flow(X_train, Y_train, batch_size=batch_size),\n",
    "                    steps_per_epoch=X_train.shape[0]/batch_size,\n",
    "                    epochs=epochs,\n",
    "                    validation_data=(X_val, Y_val),\n",
    "                    callbacks=[LearningRateScheduler(lr_schedule),\n",
    "                               ModelCheckpoint('cnn_german_aug.h5', save_best_only=True)]\n",
    "                    )"
   ]
  },
  {
   "cell_type": "code",
   "execution_count": 20,
   "metadata": {},
   "outputs": [
    {
     "data": {
      "image/png": "[encoded data removed]",
      "text/plain": [
       "<Figure size 432x288 with 1 Axes>"
      ]
     },
     "metadata": {},
     "output_type": "display_data"
    },
    {
     "data": {
      "image/png": "[encoded data removed]",
      "text/plain": [
       "<Figure size 432x288 with 1 Axes>"
      ]
     },
     "metadata": {},
     "output_type": "display_data"
    }
   ],
   "source": [
    "# Plot the learning curves\n",
    "acc = history2.history['acc']\n",
    "val_acc = history2.history['val_acc']\n",
    "loss = history2.history['loss']\n",
    "val_loss = history2.history['val_loss']\n",
    "\n",
    "epochs = range(len(acc))\n",
    "\n",
    "plt.plot(epochs, acc, '-o', label='Training acc')\n",
    "plt.plot(epochs, val_acc, 'b', label='Validation acc')\n",
    "plt.title('Training and validation accuracy')\n",
    "plt.legend(loc=4)\n",
    "\n",
    "plt.figure()\n",
    "\n",
    "plt.plot(epochs, loss, '-o', label='Training loss')\n",
    "plt.plot(epochs, val_loss, 'b', label='Validation loss')\n",
    "plt.title('Training and validation loss')\n",
    "plt.legend()\n",
    "\n",
    "plt.show()"
   ]
  },
  {
   "cell_type": "code",
   "execution_count": 21,
   "metadata": {},
   "outputs": [
    {
     "name": "stdout",
     "output_type": "stream",
     "text": [
      "12630/12630 [==============================] - 1s 53us/step\n",
      "acc: 98.52%\n"
     ]
    }
   ],
   "source": [
    "# evaluate loaded model on test data\n",
    "score = model.evaluate(X_test, y_test, batch_size=128, verbose=1)\n",
    "print(\"%s: %.2f%%\" % (model.metrics_names[1], score[1]*100))"
   ]
  },
  {
   "cell_type": "code",
   "execution_count": 15,
   "metadata": {},
   "outputs": [
    {
     "name": "stdout",
     "output_type": "stream",
     "text": [
      "Loaded model from disk\n",
      "12630/12630 [==============================] - 1s 65us/step\n",
      "acc: 98.99%\n"
     ]
    }
   ],
   "source": [
    "# load weights into new model (best weights)\n",
    "model2 = cnn_model() \n",
    "model2.load_weights('GTSRB_weights/cnn_german_aug.h5')\n",
    "#model2.load_weights('model_aug3_98.94.h5')\n",
    "print(\"Loaded model from disk\")\n",
    " \n",
    "# evaluate loaded model on test data\n",
    "lr = 0.01\n",
    "sgd = SGD(lr=lr, decay=1e-6, momentum=0.9, nesterov=True)\n",
    "model2.compile(loss='categorical_crossentropy', optimizer=sgd, metrics=['accuracy'])\n",
    "score = model2.evaluate(X_test, y_test, batch_size=128, verbose=1)\n",
    "print(\"%s: %.2f%%\" % (model2.metrics_names[1], score[1]*100))"
   ]
  },
  {
   "cell_type": "code",
   "execution_count": 6,
   "metadata": {},
   "outputs": [
    {
     "name": "stdout",
     "output_type": "stream",
     "text": [
      "_________________________________________________________________\n",
      "Layer (type)                 Output Shape              Param #   \n",
      "=================================================================\n",
      "conv2d_1 (Conv2D)            (None, 32, 48, 48)        896       \n",
      "_________________________________________________________________\n",
      "conv2d_2 (Conv2D)            (None, 32, 46, 46)        9248      \n",
      "_________________________________________________________________\n",
      "max_pooling2d_1 (MaxPooling2 (None, 32, 23, 23)        0         \n",
      "_________________________________________________________________\n",
      "dropout_1 (Dropout)          (None, 32, 23, 23)        0         \n",
      "_________________________________________________________________\n",
      "conv2d_3 (Conv2D)            (None, 64, 23, 23)        18496     \n",
      "_________________________________________________________________\n",
      "conv2d_4 (Conv2D)            (None, 64, 21, 21)        36928     \n",
      "_________________________________________________________________\n",
      "max_pooling2d_2 (MaxPooling2 (None, 64, 10, 10)        0         \n",
      "_________________________________________________________________\n",
      "dropout_2 (Dropout)          (None, 64, 10, 10)        0         \n",
      "_________________________________________________________________\n",
      "conv2d_5 (Conv2D)            (None, 128, 10, 10)       73856     \n",
      "_________________________________________________________________\n",
      "conv2d_6 (Conv2D)            (None, 128, 8, 8)         147584    \n",
      "_________________________________________________________________\n",
      "max_pooling2d_3 (MaxPooling2 (None, 128, 4, 4)         0         \n",
      "_________________________________________________________________\n",
      "dropout_3 (Dropout)          (None, 128, 4, 4)         0         \n",
      "_________________________________________________________________\n",
      "flatten_1 (Flatten)          (None, 2048)              0         \n",
      "_________________________________________________________________\n",
      "dense_1 (Dense)              (None, 512)               1049088   \n",
      "_________________________________________________________________\n",
      "dropout_4 (Dropout)          (None, 512)               0         \n",
      "_________________________________________________________________\n",
      "dense_2 (Dense)              (None, 43)                22059     \n",
      "=================================================================\n",
      "Total params: 1,358,155\n",
      "Trainable params: 1,358,155\n",
      "Non-trainable params: 0\n",
      "_________________________________________________________________\n"
     ]
    }
   ],
   "source": [
    "# Print model information\n",
    "model.summary()"
   ]
  },
  {
   "cell_type": "code",
   "execution_count": null,
   "metadata": {},
   "outputs": [],
   "source": []
  }
 ],
 "metadata": {
  "kernelspec": {
   "display_name": "Python 3",
   "language": "python",
   "name": "python3"
  },
  "language_info": {
   "codemirror_mode": {
    "name": "ipython",
    "version": 3
   },
   "file_extension": ".py",
   "mimetype": "text/x-python",
   "name": "python",
   "nbconvert_exporter": "python",
   "pygments_lexer": "ipython3",
   "version": "3.5.2"
  }
 },
 "nbformat": 4,
 "nbformat_minor": 2
}
